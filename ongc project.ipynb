{
 "cells": [
  {
   "cell_type": "code",
   "execution_count": 1,
   "metadata": {},
   "outputs": [],
   "source": [
    "## gasoline price prediction using service charges related dataset"
   ]
  },
  {
   "cell_type": "code",
   "execution_count": 2,
   "metadata": {},
   "outputs": [],
   "source": [
    "import pandas as pd"
   ]
  },
  {
   "cell_type": "code",
   "execution_count": 3,
   "metadata": {},
   "outputs": [],
   "source": [
    "gasoline = pd.read_csv(\"handmadedataset.csv\")"
   ]
  },
  {
   "cell_type": "code",
   "execution_count": 4,
   "metadata": {},
   "outputs": [
    {
     "data": {
      "text/html": [
       "<div>\n",
       "<style scoped>\n",
       "    .dataframe tbody tr th:only-of-type {\n",
       "        vertical-align: middle;\n",
       "    }\n",
       "\n",
       "    .dataframe tbody tr th {\n",
       "        vertical-align: top;\n",
       "    }\n",
       "\n",
       "    .dataframe thead th {\n",
       "        text-align: right;\n",
       "    }\n",
       "</style>\n",
       "<table border=\"1\" class=\"dataframe\">\n",
       "  <thead>\n",
       "    <tr style=\"text-align: right;\">\n",
       "      <th></th>\n",
       "      <th>crude oil 60</th>\n",
       "      <th>federal and state taxes 16</th>\n",
       "      <th>refining cost 13</th>\n",
       "      <th>distribution and marcketing 12</th>\n",
       "      <th>price</th>\n",
       "      <th>roadfunds</th>\n",
       "      <th>viscosity</th>\n",
       "      <th>igtemp</th>\n",
       "      <th>density</th>\n",
       "    </tr>\n",
       "  </thead>\n",
       "  <tbody>\n",
       "    <tr>\n",
       "      <th>0</th>\n",
       "      <td>1.62</td>\n",
       "      <td>0.4353</td>\n",
       "      <td>0.3459</td>\n",
       "      <td>0.3245</td>\n",
       "      <td>2.721</td>\n",
       "      <td>0</td>\n",
       "      <td>0.00620</td>\n",
       "      <td>55</td>\n",
       "      <td>0.7489</td>\n",
       "    </tr>\n",
       "    <tr>\n",
       "      <th>1</th>\n",
       "      <td>1.62</td>\n",
       "      <td>0.4356</td>\n",
       "      <td>0.3536</td>\n",
       "      <td>0.3241</td>\n",
       "      <td>2.731</td>\n",
       "      <td>0</td>\n",
       "      <td>0.00621</td>\n",
       "      <td>57</td>\n",
       "      <td>0.7499</td>\n",
       "    </tr>\n",
       "    <tr>\n",
       "      <th>2</th>\n",
       "      <td>1.69</td>\n",
       "      <td>0.4536</td>\n",
       "      <td>0.3459</td>\n",
       "      <td>0.3233</td>\n",
       "      <td>2.723</td>\n",
       "      <td>0</td>\n",
       "      <td>0.00619</td>\n",
       "      <td>56</td>\n",
       "      <td>0.7489</td>\n",
       "    </tr>\n",
       "    <tr>\n",
       "      <th>3</th>\n",
       "      <td>1.66</td>\n",
       "      <td>0.4566</td>\n",
       "      <td>0.3545</td>\n",
       "      <td>0.3212</td>\n",
       "      <td>2.734</td>\n",
       "      <td>1</td>\n",
       "      <td>0.00621</td>\n",
       "      <td>58</td>\n",
       "      <td>0.7499</td>\n",
       "    </tr>\n",
       "    <tr>\n",
       "      <th>4</th>\n",
       "      <td>1.63</td>\n",
       "      <td>0.4523</td>\n",
       "      <td>0.3445</td>\n",
       "      <td>0.3219</td>\n",
       "      <td>2.733</td>\n",
       "      <td>0</td>\n",
       "      <td>0.00620</td>\n",
       "      <td>56</td>\n",
       "      <td>0.7497</td>\n",
       "    </tr>\n",
       "  </tbody>\n",
       "</table>\n",
       "</div>"
      ],
      "text/plain": [
       "   crude oil 60   federal and state taxes 16  refining cost 13  \\\n",
       "0           1.62                      0.4353            0.3459   \n",
       "1           1.62                      0.4356            0.3536   \n",
       "2           1.69                      0.4536            0.3459   \n",
       "3           1.66                      0.4566            0.3545   \n",
       "4           1.63                      0.4523            0.3445   \n",
       "\n",
       "   distribution and marcketing 12  price  roadfunds  viscosity  igtemp  \\\n",
       "0                          0.3245  2.721          0    0.00620      55   \n",
       "1                          0.3241  2.731          0    0.00621      57   \n",
       "2                          0.3233  2.723          0    0.00619      56   \n",
       "3                          0.3212  2.734          1    0.00621      58   \n",
       "4                          0.3219  2.733          0    0.00620      56   \n",
       "\n",
       "   density  \n",
       "0   0.7489  \n",
       "1   0.7499  \n",
       "2   0.7489  \n",
       "3   0.7499  \n",
       "4   0.7497  "
      ]
     },
     "execution_count": 4,
     "metadata": {},
     "output_type": "execute_result"
    }
   ],
   "source": [
    "gasoline.head()"
   ]
  },
  {
   "cell_type": "code",
   "execution_count": 5,
   "metadata": {},
   "outputs": [
    {
     "name": "stdout",
     "output_type": "stream",
     "text": [
      "<class 'pandas.core.frame.DataFrame'>\n",
      "RangeIndex: 11 entries, 0 to 10\n",
      "Data columns (total 9 columns):\n",
      "crude oil 60                      11 non-null float64\n",
      "federal and state taxes 16        11 non-null float64\n",
      "refining cost 13                  9 non-null float64\n",
      "distribution and marcketing 12    11 non-null float64\n",
      "price                             11 non-null float64\n",
      "roadfunds                         11 non-null int64\n",
      "viscosity                         11 non-null float64\n",
      "igtemp                            11 non-null int64\n",
      "density                           11 non-null float64\n",
      "dtypes: float64(7), int64(2)\n",
      "memory usage: 872.0 bytes\n"
     ]
    }
   ],
   "source": [
    "gasoline.info()"
   ]
  },
  {
   "cell_type": "code",
   "execution_count": 6,
   "metadata": {},
   "outputs": [
    {
     "data": {
      "text/plain": [
       "2.734    2\n",
       "2.764    1\n",
       "2.732    1\n",
       "2.723    1\n",
       "2.731    1\n",
       "2.721    1\n",
       "2.765    1\n",
       "2.789    1\n",
       "2.699    1\n",
       "2.733    1\n",
       "Name: price, dtype: int64"
      ]
     },
     "execution_count": 6,
     "metadata": {},
     "output_type": "execute_result"
    }
   ],
   "source": [
    "gasoline['price'].value_counts()"
   ]
  },
  {
   "cell_type": "code",
   "execution_count": 7,
   "metadata": {},
   "outputs": [
    {
     "data": {
      "text/html": [
       "<div>\n",
       "<style scoped>\n",
       "    .dataframe tbody tr th:only-of-type {\n",
       "        vertical-align: middle;\n",
       "    }\n",
       "\n",
       "    .dataframe tbody tr th {\n",
       "        vertical-align: top;\n",
       "    }\n",
       "\n",
       "    .dataframe thead th {\n",
       "        text-align: right;\n",
       "    }\n",
       "</style>\n",
       "<table border=\"1\" class=\"dataframe\">\n",
       "  <thead>\n",
       "    <tr style=\"text-align: right;\">\n",
       "      <th></th>\n",
       "      <th>crude oil 60</th>\n",
       "      <th>federal and state taxes 16</th>\n",
       "      <th>refining cost 13</th>\n",
       "      <th>distribution and marcketing 12</th>\n",
       "      <th>price</th>\n",
       "      <th>roadfunds</th>\n",
       "      <th>viscosity</th>\n",
       "      <th>igtemp</th>\n",
       "      <th>density</th>\n",
       "    </tr>\n",
       "  </thead>\n",
       "  <tbody>\n",
       "    <tr>\n",
       "      <th>count</th>\n",
       "      <td>11.000000</td>\n",
       "      <td>11.000000</td>\n",
       "      <td>9.000000</td>\n",
       "      <td>11.000000</td>\n",
       "      <td>11.000000</td>\n",
       "      <td>11.000000</td>\n",
       "      <td>11.000000</td>\n",
       "      <td>11.000000</td>\n",
       "      <td>11.000000</td>\n",
       "    </tr>\n",
       "    <tr>\n",
       "      <th>mean</th>\n",
       "      <td>1.643636</td>\n",
       "      <td>0.446618</td>\n",
       "      <td>0.353611</td>\n",
       "      <td>0.323391</td>\n",
       "      <td>2.738636</td>\n",
       "      <td>0.545455</td>\n",
       "      <td>0.006212</td>\n",
       "      <td>57.090909</td>\n",
       "      <td>0.749264</td>\n",
       "    </tr>\n",
       "    <tr>\n",
       "      <th>std</th>\n",
       "      <td>0.024606</td>\n",
       "      <td>0.010448</td>\n",
       "      <td>0.008810</td>\n",
       "      <td>0.002078</td>\n",
       "      <td>0.024857</td>\n",
       "      <td>0.522233</td>\n",
       "      <td>0.000049</td>\n",
       "      <td>2.508168</td>\n",
       "      <td>0.000803</td>\n",
       "    </tr>\n",
       "    <tr>\n",
       "      <th>min</th>\n",
       "      <td>1.610000</td>\n",
       "      <td>0.430000</td>\n",
       "      <td>0.344500</td>\n",
       "      <td>0.321200</td>\n",
       "      <td>2.699000</td>\n",
       "      <td>0.000000</td>\n",
       "      <td>0.006100</td>\n",
       "      <td>52.000000</td>\n",
       "      <td>0.747900</td>\n",
       "    </tr>\n",
       "    <tr>\n",
       "      <th>25%</th>\n",
       "      <td>1.625000</td>\n",
       "      <td>0.437750</td>\n",
       "      <td>0.345900</td>\n",
       "      <td>0.322100</td>\n",
       "      <td>2.727000</td>\n",
       "      <td>0.000000</td>\n",
       "      <td>0.006200</td>\n",
       "      <td>56.000000</td>\n",
       "      <td>0.748850</td>\n",
       "    </tr>\n",
       "    <tr>\n",
       "      <th>50%</th>\n",
       "      <td>1.640000</td>\n",
       "      <td>0.452300</td>\n",
       "      <td>0.353600</td>\n",
       "      <td>0.322200</td>\n",
       "      <td>2.733000</td>\n",
       "      <td>1.000000</td>\n",
       "      <td>0.006210</td>\n",
       "      <td>57.000000</td>\n",
       "      <td>0.749700</td>\n",
       "    </tr>\n",
       "    <tr>\n",
       "      <th>75%</th>\n",
       "      <td>1.660000</td>\n",
       "      <td>0.456450</td>\n",
       "      <td>0.354500</td>\n",
       "      <td>0.324300</td>\n",
       "      <td>2.749000</td>\n",
       "      <td>1.000000</td>\n",
       "      <td>0.006235</td>\n",
       "      <td>58.500000</td>\n",
       "      <td>0.749900</td>\n",
       "    </tr>\n",
       "    <tr>\n",
       "      <th>max</th>\n",
       "      <td>1.690000</td>\n",
       "      <td>0.456700</td>\n",
       "      <td>0.373800</td>\n",
       "      <td>0.328200</td>\n",
       "      <td>2.789000</td>\n",
       "      <td>1.000000</td>\n",
       "      <td>0.006300</td>\n",
       "      <td>61.000000</td>\n",
       "      <td>0.750100</td>\n",
       "    </tr>\n",
       "  </tbody>\n",
       "</table>\n",
       "</div>"
      ],
      "text/plain": [
       "       crude oil 60   federal and state taxes 16  refining cost 13  \\\n",
       "count      11.000000                   11.000000          9.000000   \n",
       "mean        1.643636                    0.446618          0.353611   \n",
       "std         0.024606                    0.010448          0.008810   \n",
       "min         1.610000                    0.430000          0.344500   \n",
       "25%         1.625000                    0.437750          0.345900   \n",
       "50%         1.640000                    0.452300          0.353600   \n",
       "75%         1.660000                    0.456450          0.354500   \n",
       "max         1.690000                    0.456700          0.373800   \n",
       "\n",
       "       distribution and marcketing 12      price  roadfunds  viscosity  \\\n",
       "count                       11.000000  11.000000  11.000000  11.000000   \n",
       "mean                         0.323391   2.738636   0.545455   0.006212   \n",
       "std                          0.002078   0.024857   0.522233   0.000049   \n",
       "min                          0.321200   2.699000   0.000000   0.006100   \n",
       "25%                          0.322100   2.727000   0.000000   0.006200   \n",
       "50%                          0.322200   2.733000   1.000000   0.006210   \n",
       "75%                          0.324300   2.749000   1.000000   0.006235   \n",
       "max                          0.328200   2.789000   1.000000   0.006300   \n",
       "\n",
       "          igtemp    density  \n",
       "count  11.000000  11.000000  \n",
       "mean   57.090909   0.749264  \n",
       "std     2.508168   0.000803  \n",
       "min    52.000000   0.747900  \n",
       "25%    56.000000   0.748850  \n",
       "50%    57.000000   0.749700  \n",
       "75%    58.500000   0.749900  \n",
       "max    61.000000   0.750100  "
      ]
     },
     "execution_count": 7,
     "metadata": {},
     "output_type": "execute_result"
    }
   ],
   "source": [
    "gasoline.describe()"
   ]
  },
  {
   "cell_type": "code",
   "execution_count": 8,
   "metadata": {},
   "outputs": [],
   "source": [
    "%matplotlib inline"
   ]
  },
  {
   "cell_type": "code",
   "execution_count": 9,
   "metadata": {},
   "outputs": [
    {
     "data": {
      "text/plain": [
       "array([[<matplotlib.axes._subplots.AxesSubplot object at 0x00000230E371DF28>,\n",
       "        <matplotlib.axes._subplots.AxesSubplot object at 0x00000230E39C93C8>,\n",
       "        <matplotlib.axes._subplots.AxesSubplot object at 0x00000230E39F2A58>],\n",
       "       [<matplotlib.axes._subplots.AxesSubplot object at 0x00000230E3A24128>,\n",
       "        <matplotlib.axes._subplots.AxesSubplot object at 0x00000230E3A4B7B8>,\n",
       "        <matplotlib.axes._subplots.AxesSubplot object at 0x00000230E3A4B7F0>],\n",
       "       [<matplotlib.axes._subplots.AxesSubplot object at 0x00000230E3AA1518>,\n",
       "        <matplotlib.axes._subplots.AxesSubplot object at 0x00000230E3ACBBA8>,\n",
       "        <matplotlib.axes._subplots.AxesSubplot object at 0x00000230E3AFD278>]],\n",
       "      dtype=object)"
      ]
     },
     "execution_count": 9,
     "metadata": {},
     "output_type": "execute_result"
    },
    {
     "data": {
      "image/png": "[encoded data removed]",
      "text/plain": [
       "<Figure size 1440x1080 with 9 Axes>"
      ]
     },
     "metadata": {
      "needs_background": "light"
     },
     "output_type": "display_data"
    }
   ],
   "source": [
    "# # For plotting histogram\n",
    "import matplotlib.pyplot as plt\n",
    "gasoline.hist(bins=50, figsize=(20, 15))"
   ]
  },
  {
   "cell_type": "markdown",
   "metadata": {},
   "source": [
    "###                                                         Train-Test spliting "
   ]
  },
  {
   "cell_type": "code",
   "execution_count": 13,
   "metadata": {},
   "outputs": [
    {
     "name": "stdout",
     "output_type": "stream",
     "text": [
      "Rows in train set: 8\n",
      "Rows in test set: 3\n",
      "\n"
     ]
    }
   ],
   "source": [
    "# For learning purpose\n",
    "import numpy as np\n",
    "def split_train_test(data, test_ratio):\n",
    "    np.random.seed(42)\n",
    "    shuffled = np.random.permutation(len(data))\n",
    "    print(shuffled)\n",
    "    test_set_size = int(len(data) * test_ratio)\n",
    "    test_indices = shuffled[:test_set_size]\n",
    "    train_indices = shuffled[test_set_size:] \n",
    "    return data.iloc[train_indices], data.iloc[test_indices]\n",
    "print(f\"Rows in train set: {len(train_set)}\\nRows in test set: {len(test_set)}\\n\")"
   ]
  },
  {
   "cell_type": "code",
   "execution_count": 14,
   "metadata": {},
   "outputs": [
    {
     "name": "stdout",
     "output_type": "stream",
     "text": [
      "Rows in train set: 8\n",
      "Rows in test set: 3\n",
      "\n"
     ]
    }
   ],
   "source": [
    "from sklearn.model_selection import train_test_split\n",
    "train_set, test_set  = train_test_split(gasoline, test_size=0.2,random_state=42)\n",
    "print(f\"Rows in train set: {len(train_set)}\\nRows in test set: {len(test_set)}\\n\")"
   ]
  },
  {
   "cell_type": "code",
   "execution_count": 15,
   "metadata": {},
   "outputs": [],
   "source": [
    "from sklearn.model_selection import StratifiedShuffleSplit\n",
    "split = StratifiedShuffleSplit(n_splits=1, test_size=0.2, random_state=42)\n",
    "for train_index, test_index in split.split(gasoline, gasoline['roadfunds']):\n",
    "    strat_train_set = gasoline.loc[train_index]\n",
    "    strat_test_set = gasoline.loc[test_index]"
   ]
  },
  {
   "cell_type": "code",
   "execution_count": 16,
   "metadata": {},
   "outputs": [
    {
     "data": {
      "text/html": [
       "<div>\n",
       "<style scoped>\n",
       "    .dataframe tbody tr th:only-of-type {\n",
       "        vertical-align: middle;\n",
       "    }\n",
       "\n",
       "    .dataframe tbody tr th {\n",
       "        vertical-align: top;\n",
       "    }\n",
       "\n",
       "    .dataframe thead th {\n",
       "        text-align: right;\n",
       "    }\n",
       "</style>\n",
       "<table border=\"1\" class=\"dataframe\">\n",
       "  <thead>\n",
       "    <tr style=\"text-align: right;\">\n",
       "      <th></th>\n",
       "      <th>crude oil 60</th>\n",
       "      <th>federal and state taxes 16</th>\n",
       "      <th>refining cost 13</th>\n",
       "      <th>distribution and marcketing 12</th>\n",
       "      <th>price</th>\n",
       "      <th>roadfunds</th>\n",
       "      <th>viscosity</th>\n",
       "      <th>igtemp</th>\n",
       "      <th>density</th>\n",
       "    </tr>\n",
       "  </thead>\n",
       "  <tbody>\n",
       "    <tr>\n",
       "      <th>count</th>\n",
       "      <td>3.000000</td>\n",
       "      <td>3.000000</td>\n",
       "      <td>3.000000</td>\n",
       "      <td>3.000000</td>\n",
       "      <td>3.000000</td>\n",
       "      <td>3.000000</td>\n",
       "      <td>3.000000</td>\n",
       "      <td>3.0</td>\n",
       "      <td>3.00000</td>\n",
       "    </tr>\n",
       "    <tr>\n",
       "      <th>mean</th>\n",
       "      <td>1.636667</td>\n",
       "      <td>0.440733</td>\n",
       "      <td>0.357200</td>\n",
       "      <td>0.322067</td>\n",
       "      <td>2.732333</td>\n",
       "      <td>0.666667</td>\n",
       "      <td>0.006227</td>\n",
       "      <td>56.0</td>\n",
       "      <td>0.74880</td>\n",
       "    </tr>\n",
       "    <tr>\n",
       "      <th>std</th>\n",
       "      <td>0.011547</td>\n",
       "      <td>0.011173</td>\n",
       "      <td>0.015034</td>\n",
       "      <td>0.000153</td>\n",
       "      <td>0.033005</td>\n",
       "      <td>0.577350</td>\n",
       "      <td>0.000025</td>\n",
       "      <td>4.0</td>\n",
       "      <td>0.00090</td>\n",
       "    </tr>\n",
       "    <tr>\n",
       "      <th>min</th>\n",
       "      <td>1.630000</td>\n",
       "      <td>0.430000</td>\n",
       "      <td>0.344500</td>\n",
       "      <td>0.321900</td>\n",
       "      <td>2.699000</td>\n",
       "      <td>0.000000</td>\n",
       "      <td>0.006200</td>\n",
       "      <td>52.0</td>\n",
       "      <td>0.74790</td>\n",
       "    </tr>\n",
       "    <tr>\n",
       "      <th>25%</th>\n",
       "      <td>1.630000</td>\n",
       "      <td>0.434950</td>\n",
       "      <td>0.348900</td>\n",
       "      <td>0.322000</td>\n",
       "      <td>2.716000</td>\n",
       "      <td>0.500000</td>\n",
       "      <td>0.006215</td>\n",
       "      <td>54.0</td>\n",
       "      <td>0.74835</td>\n",
       "    </tr>\n",
       "    <tr>\n",
       "      <th>50%</th>\n",
       "      <td>1.630000</td>\n",
       "      <td>0.439900</td>\n",
       "      <td>0.353300</td>\n",
       "      <td>0.322100</td>\n",
       "      <td>2.733000</td>\n",
       "      <td>1.000000</td>\n",
       "      <td>0.006230</td>\n",
       "      <td>56.0</td>\n",
       "      <td>0.74880</td>\n",
       "    </tr>\n",
       "    <tr>\n",
       "      <th>75%</th>\n",
       "      <td>1.640000</td>\n",
       "      <td>0.446100</td>\n",
       "      <td>0.363550</td>\n",
       "      <td>0.322150</td>\n",
       "      <td>2.749000</td>\n",
       "      <td>1.000000</td>\n",
       "      <td>0.006240</td>\n",
       "      <td>58.0</td>\n",
       "      <td>0.74925</td>\n",
       "    </tr>\n",
       "    <tr>\n",
       "      <th>max</th>\n",
       "      <td>1.650000</td>\n",
       "      <td>0.452300</td>\n",
       "      <td>0.373800</td>\n",
       "      <td>0.322200</td>\n",
       "      <td>2.765000</td>\n",
       "      <td>1.000000</td>\n",
       "      <td>0.006250</td>\n",
       "      <td>60.0</td>\n",
       "      <td>0.74970</td>\n",
       "    </tr>\n",
       "  </tbody>\n",
       "</table>\n",
       "</div>"
      ],
      "text/plain": [
       "       crude oil 60   federal and state taxes 16  refining cost 13  \\\n",
       "count       3.000000                    3.000000          3.000000   \n",
       "mean        1.636667                    0.440733          0.357200   \n",
       "std         0.011547                    0.011173          0.015034   \n",
       "min         1.630000                    0.430000          0.344500   \n",
       "25%         1.630000                    0.434950          0.348900   \n",
       "50%         1.630000                    0.439900          0.353300   \n",
       "75%         1.640000                    0.446100          0.363550   \n",
       "max         1.650000                    0.452300          0.373800   \n",
       "\n",
       "       distribution and marcketing 12     price  roadfunds  viscosity  igtemp  \\\n",
       "count                        3.000000  3.000000   3.000000   3.000000     3.0   \n",
       "mean                         0.322067  2.732333   0.666667   0.006227    56.0   \n",
       "std                          0.000153  0.033005   0.577350   0.000025     4.0   \n",
       "min                          0.321900  2.699000   0.000000   0.006200    52.0   \n",
       "25%                          0.322000  2.716000   0.500000   0.006215    54.0   \n",
       "50%                          0.322100  2.733000   1.000000   0.006230    56.0   \n",
       "75%                          0.322150  2.749000   1.000000   0.006240    58.0   \n",
       "max                          0.322200  2.765000   1.000000   0.006250    60.0   \n",
       "\n",
       "       density  \n",
       "count  3.00000  \n",
       "mean   0.74880  \n",
       "std    0.00090  \n",
       "min    0.74790  \n",
       "25%    0.74835  \n",
       "50%    0.74880  \n",
       "75%    0.74925  \n",
       "max    0.74970  "
      ]
     },
     "execution_count": 16,
     "metadata": {},
     "output_type": "execute_result"
    }
   ],
   "source": [
    "strat_test_set.describe()"
   ]
  },
  {
   "cell_type": "code",
   "execution_count": 17,
   "metadata": {},
   "outputs": [
    {
     "name": "stdout",
     "output_type": "stream",
     "text": [
      "<class 'pandas.core.frame.DataFrame'>\n",
      "Int64Index: 3 entries, 8 to 4\n",
      "Data columns (total 9 columns):\n",
      "crude oil 60                      3 non-null float64\n",
      "federal and state taxes 16        3 non-null float64\n",
      "refining cost 13                  3 non-null float64\n",
      "distribution and marcketing 12    3 non-null float64\n",
      "price                             3 non-null float64\n",
      "roadfunds                         3 non-null int64\n",
      "viscosity                         3 non-null float64\n",
      "igtemp                            3 non-null int64\n",
      "density                           3 non-null float64\n",
      "dtypes: float64(7), int64(2)\n",
      "memory usage: 240.0 bytes\n"
     ]
    }
   ],
   "source": [
    "strat_test_set.info()"
   ]
  },
  {
   "cell_type": "code",
   "execution_count": 18,
   "metadata": {},
   "outputs": [
    {
     "data": {
      "text/plain": [
       "1    2\n",
       "0    1\n",
       "Name: roadfunds, dtype: int64"
      ]
     },
     "execution_count": 18,
     "metadata": {},
     "output_type": "execute_result"
    }
   ],
   "source": [
    "strat_test_set['roadfunds'].value_counts()"
   ]
  },
  {
   "cell_type": "code",
   "execution_count": 19,
   "metadata": {},
   "outputs": [
    {
     "data": {
      "text/plain": [
       "1    4\n",
       "0    4\n",
       "Name: roadfunds, dtype: int64"
      ]
     },
     "execution_count": 19,
     "metadata": {},
     "output_type": "execute_result"
    }
   ],
   "source": [
    "strat_train_set['roadfunds'].value_counts()"
   ]
  },
  {
   "cell_type": "code",
   "execution_count": 20,
   "metadata": {},
   "outputs": [],
   "source": [
    "gasoline= strat_train_set.copy()"
   ]
  },
  {
   "cell_type": "markdown",
   "metadata": {},
   "source": [
    "# Looking for Correlations"
   ]
  },
  {
   "cell_type": "code",
   "execution_count": 21,
   "metadata": {},
   "outputs": [
    {
     "data": {
      "text/plain": [
       "price                             1.000000\n",
       "igtemp                            0.921440\n",
       "viscosity                         0.728573\n",
       "refining cost 13                  0.431650\n",
       "crude oil 60                      0.319679\n",
       "roadfunds                         0.285421\n",
       "federal and state taxes 16        0.191381\n",
       "density                           0.031728\n",
       "distribution and marcketing 12   -0.424367\n",
       "Name: price, dtype: float64"
      ]
     },
     "execution_count": 21,
     "metadata": {},
     "output_type": "execute_result"
    }
   ],
   "source": [
    "corr_matrix = gasoline.corr()\n",
    "corr_matrix['price'].sort_values(ascending=False)\n",
    "#+means that value of price is directly releated to the other variables ,- not related  "
   ]
  },
  {
   "cell_type": "code",
   "execution_count": 22,
   "metadata": {},
   "outputs": [
    {
     "data": {
      "text/plain": [
       "array([[<matplotlib.axes._subplots.AxesSubplot object at 0x00000230E63BC0F0>,\n",
       "        <matplotlib.axes._subplots.AxesSubplot object at 0x00000230E63E1BA8>,\n",
       "        <matplotlib.axes._subplots.AxesSubplot object at 0x00000230E640CEB8>,\n",
       "        <matplotlib.axes._subplots.AxesSubplot object at 0x00000230E643F208>,\n",
       "        <matplotlib.axes._subplots.AxesSubplot object at 0x00000230E6468518>,\n",
       "        <matplotlib.axes._subplots.AxesSubplot object at 0x00000230E6468550>,\n",
       "        <matplotlib.axes._subplots.AxesSubplot object at 0x00000230E4144588>],\n",
       "       [<matplotlib.axes._subplots.AxesSubplot object at 0x00000230E64E7E10>,\n",
       "        <matplotlib.axes._subplots.AxesSubplot object at 0x00000230E651A160>,\n",
       "        <matplotlib.axes._subplots.AxesSubplot object at 0x00000230E6545470>,\n",
       "        <matplotlib.axes._subplots.AxesSubplot object at 0x00000230E656F780>,\n",
       "        <matplotlib.axes._subplots.AxesSubplot object at 0x00000230E6598A90>,\n",
       "        <matplotlib.axes._subplots.AxesSubplot object at 0x00000230E65C3DA0>,\n",
       "        <matplotlib.axes._subplots.AxesSubplot object at 0x00000230E65F70F0>],\n",
       "       [<matplotlib.axes._subplots.AxesSubplot object at 0x00000230E6620400>,\n",
       "        <matplotlib.axes._subplots.AxesSubplot object at 0x00000230E664A710>,\n",
       "        <matplotlib.axes._subplots.AxesSubplot object at 0x00000230E6674A20>,\n",
       "        <matplotlib.axes._subplots.AxesSubplot object at 0x00000230E669ED30>,\n",
       "        <matplotlib.axes._subplots.AxesSubplot object at 0x00000230E66D3080>,\n",
       "        <matplotlib.axes._subplots.AxesSubplot object at 0x00000230E66FC390>,\n",
       "        <matplotlib.axes._subplots.AxesSubplot object at 0x00000230E67276A0>],\n",
       "       [<matplotlib.axes._subplots.AxesSubplot object at 0x00000230E67509E8>,\n",
       "        <matplotlib.axes._subplots.AxesSubplot object at 0x00000230E67820B8>,\n",
       "        <matplotlib.axes._subplots.AxesSubplot object at 0x00000230E67A8748>,\n",
       "        <matplotlib.axes._subplots.AxesSubplot object at 0x00000230E67D3DD8>,\n",
       "        <matplotlib.axes._subplots.AxesSubplot object at 0x00000230E68044A8>,\n",
       "        <matplotlib.axes._subplots.AxesSubplot object at 0x00000230E682DB38>,\n",
       "        <matplotlib.axes._subplots.AxesSubplot object at 0x00000230E46FDE10>],\n",
       "       [<matplotlib.axes._subplots.AxesSubplot object at 0x00000230E68822B0>,\n",
       "        <matplotlib.axes._subplots.AxesSubplot object at 0x00000230E68A9940>,\n",
       "        <matplotlib.axes._subplots.AxesSubplot object at 0x00000230E68D3FD0>,\n",
       "        <matplotlib.axes._subplots.AxesSubplot object at 0x00000230E69046A0>,\n",
       "        <matplotlib.axes._subplots.AxesSubplot object at 0x00000230E692AD30>,\n",
       "        <matplotlib.axes._subplots.AxesSubplot object at 0x00000230E695E400>,\n",
       "        <matplotlib.axes._subplots.AxesSubplot object at 0x00000230E6986A90>],\n",
       "       [<matplotlib.axes._subplots.AxesSubplot object at 0x00000230E69B9160>,\n",
       "        <matplotlib.axes._subplots.AxesSubplot object at 0x00000230E69E07F0>,\n",
       "        <matplotlib.axes._subplots.AxesSubplot object at 0x00000230E6A08E80>,\n",
       "        <matplotlib.axes._subplots.AxesSubplot object at 0x00000230E6A39550>,\n",
       "        <matplotlib.axes._subplots.AxesSubplot object at 0x00000230E6A62BE0>,\n",
       "        <matplotlib.axes._subplots.AxesSubplot object at 0x00000230E6A932B0>,\n",
       "        <matplotlib.axes._subplots.AxesSubplot object at 0x00000230E6ABB940>],\n",
       "       [<matplotlib.axes._subplots.AxesSubplot object at 0x00000230E6AE4FD0>,\n",
       "        <matplotlib.axes._subplots.AxesSubplot object at 0x00000230E6B156A0>,\n",
       "        <matplotlib.axes._subplots.AxesSubplot object at 0x00000230E6B3DD30>,\n",
       "        <matplotlib.axes._subplots.AxesSubplot object at 0x00000230E6B71400>,\n",
       "        <matplotlib.axes._subplots.AxesSubplot object at 0x00000230E6B9AA90>,\n",
       "        <matplotlib.axes._subplots.AxesSubplot object at 0x00000230E6BC9160>,\n",
       "        <matplotlib.axes._subplots.AxesSubplot object at 0x00000230E6BF27F0>]],\n",
       "      dtype=object)"
      ]
     },
     "execution_count": 22,
     "metadata": {},
     "output_type": "execute_result"
    },
    {
     "data": {
      "image/png": "[encoded data removed]",
      "text/plain": [
       "<Figure size 1080x720 with 49 Axes>"
      ]
     },
     "metadata": {
      "needs_background": "light"
     },
     "output_type": "display_data"
    }
   ],
   "source": [
    "from pandas.plotting import scatter_matrix\n",
    "attributes=[\"price\" ,\"federal and state taxes 16\",\"refining cost 13\",\"distribution and marcketing 12\",\"roadfunds\",\"density\",\"viscosity\",]\n",
    "scatter_matrix(gasoline[attributes],figsize=(15,10))"
   ]
  },
  {
   "cell_type": "code",
   "execution_count": 23,
   "metadata": {},
   "outputs": [
    {
     "data": {
      "text/plain": [
       "<matplotlib.axes._subplots.AxesSubplot at 0x230e72d0d68>"
      ]
     },
     "execution_count": 23,
     "metadata": {},
     "output_type": "execute_result"
    },
    {
     "data": {
      "image/png": "[encoded data removed]",
      "text/plain": [
       "<Figure size 432x288 with 1 Axes>"
      ]
     },
     "metadata": {
      "needs_background": "light"
     },
     "output_type": "display_data"
    }
   ],
   "source": [
    "gasoline.plot(kind=\"scatter\", x=\"distribution and marcketing 12\", y=\"price\", alpha=0.8)"
   ]
  },
  {
   "cell_type": "markdown",
   "metadata": {},
   "source": [
    "# Trying out Attribute combinations"
   ]
  },
  {
   "cell_type": "code",
   "execution_count": 24,
   "metadata": {},
   "outputs": [],
   "source": [
    "gasoline[\"distance\"] = gasoline['price']/gasoline['distribution and marcketing 12']"
   ]
  },
  {
   "cell_type": "code",
   "execution_count": 25,
   "metadata": {},
   "outputs": [
    {
     "data": {
      "text/html": [
       "<div>\n",
       "<style scoped>\n",
       "    .dataframe tbody tr th:only-of-type {\n",
       "        vertical-align: middle;\n",
       "    }\n",
       "\n",
       "    .dataframe tbody tr th {\n",
       "        vertical-align: top;\n",
       "    }\n",
       "\n",
       "    .dataframe thead th {\n",
       "        text-align: right;\n",
       "    }\n",
       "</style>\n",
       "<table border=\"1\" class=\"dataframe\">\n",
       "  <thead>\n",
       "    <tr style=\"text-align: right;\">\n",
       "      <th></th>\n",
       "      <th>crude oil 60</th>\n",
       "      <th>federal and state taxes 16</th>\n",
       "      <th>refining cost 13</th>\n",
       "      <th>distribution and marcketing 12</th>\n",
       "      <th>price</th>\n",
       "      <th>roadfunds</th>\n",
       "      <th>viscosity</th>\n",
       "      <th>igtemp</th>\n",
       "      <th>density</th>\n",
       "      <th>distance</th>\n",
       "    </tr>\n",
       "  </thead>\n",
       "  <tbody>\n",
       "    <tr>\n",
       "      <th>1</th>\n",
       "      <td>1.62</td>\n",
       "      <td>0.4356</td>\n",
       "      <td>0.3536</td>\n",
       "      <td>0.3241</td>\n",
       "      <td>2.731</td>\n",
       "      <td>0</td>\n",
       "      <td>0.00621</td>\n",
       "      <td>57</td>\n",
       "      <td>0.7499</td>\n",
       "      <td>8.426412</td>\n",
       "    </tr>\n",
       "    <tr>\n",
       "      <th>9</th>\n",
       "      <td>1.67</td>\n",
       "      <td>0.4399</td>\n",
       "      <td>NaN</td>\n",
       "      <td>0.3221</td>\n",
       "      <td>2.764</td>\n",
       "      <td>0</td>\n",
       "      <td>0.00624</td>\n",
       "      <td>59</td>\n",
       "      <td>0.7480</td>\n",
       "      <td>8.581186</td>\n",
       "    </tr>\n",
       "    <tr>\n",
       "      <th>3</th>\n",
       "      <td>1.66</td>\n",
       "      <td>0.4566</td>\n",
       "      <td>0.3545</td>\n",
       "      <td>0.3212</td>\n",
       "      <td>2.734</td>\n",
       "      <td>1</td>\n",
       "      <td>0.00621</td>\n",
       "      <td>58</td>\n",
       "      <td>0.7499</td>\n",
       "      <td>8.511831</td>\n",
       "    </tr>\n",
       "    <tr>\n",
       "      <th>0</th>\n",
       "      <td>1.62</td>\n",
       "      <td>0.4353</td>\n",
       "      <td>0.3459</td>\n",
       "      <td>0.3245</td>\n",
       "      <td>2.721</td>\n",
       "      <td>0</td>\n",
       "      <td>0.00620</td>\n",
       "      <td>55</td>\n",
       "      <td>0.7489</td>\n",
       "      <td>8.385208</td>\n",
       "    </tr>\n",
       "    <tr>\n",
       "      <th>7</th>\n",
       "      <td>1.66</td>\n",
       "      <td>0.4567</td>\n",
       "      <td>0.3542</td>\n",
       "      <td>0.3221</td>\n",
       "      <td>2.789</td>\n",
       "      <td>1</td>\n",
       "      <td>0.00630</td>\n",
       "      <td>61</td>\n",
       "      <td>0.7501</td>\n",
       "      <td>8.658802</td>\n",
       "    </tr>\n",
       "  </tbody>\n",
       "</table>\n",
       "</div>"
      ],
      "text/plain": [
       "   crude oil 60   federal and state taxes 16  refining cost 13  \\\n",
       "1           1.62                      0.4356            0.3536   \n",
       "9           1.67                      0.4399               NaN   \n",
       "3           1.66                      0.4566            0.3545   \n",
       "0           1.62                      0.4353            0.3459   \n",
       "7           1.66                      0.4567            0.3542   \n",
       "\n",
       "   distribution and marcketing 12  price  roadfunds  viscosity  igtemp  \\\n",
       "1                          0.3241  2.731          0    0.00621      57   \n",
       "9                          0.3221  2.764          0    0.00624      59   \n",
       "3                          0.3212  2.734          1    0.00621      58   \n",
       "0                          0.3245  2.721          0    0.00620      55   \n",
       "7                          0.3221  2.789          1    0.00630      61   \n",
       "\n",
       "   density  distance  \n",
       "1   0.7499  8.426412  \n",
       "9   0.7480  8.581186  \n",
       "3   0.7499  8.511831  \n",
       "0   0.7489  8.385208  \n",
       "7   0.7501  8.658802  "
      ]
     },
     "execution_count": 25,
     "metadata": {},
     "output_type": "execute_result"
    }
   ],
   "source": [
    "gasoline.head()"
   ]
  },
  {
   "cell_type": "code",
   "execution_count": 26,
   "metadata": {},
   "outputs": [
    {
     "data": {
      "text/plain": [
       "price                             1.000000\n",
       "igtemp                            0.921440\n",
       "distance                          0.878329\n",
       "viscosity                         0.728573\n",
       "refining cost 13                  0.431650\n",
       "crude oil 60                      0.319679\n",
       "roadfunds                         0.285421\n",
       "federal and state taxes 16        0.191381\n",
       "density                           0.031728\n",
       "distribution and marcketing 12   -0.424367\n",
       "Name: price, dtype: float64"
      ]
     },
     "execution_count": 26,
     "metadata": {},
     "output_type": "execute_result"
    }
   ],
   "source": [
    "corr_matrix = gasoline.corr()\n",
    "corr_matrix['price'].sort_values(ascending=False)"
   ]
  },
  {
   "cell_type": "code",
   "execution_count": 27,
   "metadata": {},
   "outputs": [
    {
     "data": {
      "text/plain": [
       "<matplotlib.axes._subplots.AxesSubplot at 0x230e6fc4470>"
      ]
     },
     "execution_count": 27,
     "metadata": {},
     "output_type": "execute_result"
    },
    {
     "data": {
      "image/png": "[encoded data removed]",
      "text/plain": [
       "<Figure size 432x288 with 1 Axes>"
      ]
     },
     "metadata": {
      "needs_background": "light"
     },
     "output_type": "display_data"
    }
   ],
   "source": [
    "gasoline.plot(kind=\"scatter\", x=\"distance\", y=\"price\", alpha=0.8)"
   ]
  },
  {
   "cell_type": "code",
   "execution_count": 28,
   "metadata": {},
   "outputs": [],
   "source": [
    "gasoline= strat_train_set.drop(\"price\", axis=1)\n",
    "gasoline_labels = strat_train_set[\"price\"].copy()"
   ]
  },
  {
   "cell_type": "markdown",
   "metadata": {},
   "source": [
    "# missing attributes\n"
   ]
  },
  {
   "cell_type": "code",
   "execution_count": null,
   "metadata": {},
   "outputs": [],
   "source": []
  },
  {
   "cell_type": "code",
   "execution_count": 29,
   "metadata": {},
   "outputs": [],
   "source": [
    "# To take care of missing attributes, you have three options:\n",
    "#     1. Get rid of the missing data points\n",
    "#     2. Get rid of the whole attribute\n",
    "#     3. Set the value to some value(0, mean or median)"
   ]
  },
  {
   "cell_type": "code",
   "execution_count": 30,
   "metadata": {},
   "outputs": [
    {
     "data": {
      "text/plain": [
       "(6, 8)"
      ]
     },
     "execution_count": 30,
     "metadata": {},
     "output_type": "execute_result"
    }
   ],
   "source": [
    "a = gasoline.dropna(subset=[\"refining cost 13\"]) #Option 1\n",
    "a.shape\n",
    "# Note that the original gesoline dataframe will remain unchanged"
   ]
  },
  {
   "cell_type": "code",
   "execution_count": 31,
   "metadata": {},
   "outputs": [
    {
     "data": {
      "text/plain": [
       "(8, 7)"
      ]
     },
     "execution_count": 31,
     "metadata": {},
     "output_type": "execute_result"
    }
   ],
   "source": [
    "gasoline.drop(\"refining cost 13\", axis=1).shape # Option 2\n",
    "# Note that there is refining cost 13 no column and also note that the original gesoline dataframe will remain unchanged"
   ]
  },
  {
   "cell_type": "code",
   "execution_count": 32,
   "metadata": {},
   "outputs": [],
   "source": [
    "median = gasoline[\"refining cost 13\"].median() # Compute median for Option 3"
   ]
  },
  {
   "cell_type": "code",
   "execution_count": 33,
   "metadata": {},
   "outputs": [
    {
     "data": {
      "text/plain": [
       "1    0.3536\n",
       "9    0.3539\n",
       "3    0.3545\n",
       "0    0.3459\n",
       "7    0.3542\n",
       "6    0.3568\n",
       "2    0.3459\n",
       "5    0.3539\n",
       "Name: refining cost 13, dtype: float64"
      ]
     },
     "execution_count": 33,
     "metadata": {},
     "output_type": "execute_result"
    }
   ],
   "source": [
    "gasoline[\"refining cost 13\"].fillna(median) # Option 3\n",
    "# Note that the original housing dataframe will remain unchanged"
   ]
  },
  {
   "cell_type": "code",
   "execution_count": 34,
   "metadata": {},
   "outputs": [
    {
     "data": {
      "text/plain": [
       "(8, 8)"
      ]
     },
     "execution_count": 34,
     "metadata": {},
     "output_type": "execute_result"
    }
   ],
   "source": [
    "gasoline.shape"
   ]
  },
  {
   "cell_type": "code",
   "execution_count": 35,
   "metadata": {},
   "outputs": [
    {
     "data": {
      "text/html": [
       "<div>\n",
       "<style scoped>\n",
       "    .dataframe tbody tr th:only-of-type {\n",
       "        vertical-align: middle;\n",
       "    }\n",
       "\n",
       "    .dataframe tbody tr th {\n",
       "        vertical-align: top;\n",
       "    }\n",
       "\n",
       "    .dataframe thead th {\n",
       "        text-align: right;\n",
       "    }\n",
       "</style>\n",
       "<table border=\"1\" class=\"dataframe\">\n",
       "  <thead>\n",
       "    <tr style=\"text-align: right;\">\n",
       "      <th></th>\n",
       "      <th>crude oil 60</th>\n",
       "      <th>federal and state taxes 16</th>\n",
       "      <th>refining cost 13</th>\n",
       "      <th>distribution and marcketing 12</th>\n",
       "      <th>roadfunds</th>\n",
       "      <th>viscosity</th>\n",
       "      <th>igtemp</th>\n",
       "      <th>density</th>\n",
       "    </tr>\n",
       "  </thead>\n",
       "  <tbody>\n",
       "    <tr>\n",
       "      <th>count</th>\n",
       "      <td>8.000000</td>\n",
       "      <td>8.000000</td>\n",
       "      <td>6.000000</td>\n",
       "      <td>8.000000</td>\n",
       "      <td>8.000000</td>\n",
       "      <td>8.000000</td>\n",
       "      <td>8.000000</td>\n",
       "      <td>8.000000</td>\n",
       "    </tr>\n",
       "    <tr>\n",
       "      <th>mean</th>\n",
       "      <td>1.646250</td>\n",
       "      <td>0.448825</td>\n",
       "      <td>0.351817</td>\n",
       "      <td>0.323887</td>\n",
       "      <td>0.500000</td>\n",
       "      <td>0.006206</td>\n",
       "      <td>57.500000</td>\n",
       "      <td>0.749437</td>\n",
       "    </tr>\n",
       "    <tr>\n",
       "      <th>std</th>\n",
       "      <td>0.028253</td>\n",
       "      <td>0.009993</td>\n",
       "      <td>0.004710</td>\n",
       "      <td>0.002265</td>\n",
       "      <td>0.534522</td>\n",
       "      <td>0.000056</td>\n",
       "      <td>1.927248</td>\n",
       "      <td>0.000750</td>\n",
       "    </tr>\n",
       "    <tr>\n",
       "      <th>min</th>\n",
       "      <td>1.610000</td>\n",
       "      <td>0.435300</td>\n",
       "      <td>0.345900</td>\n",
       "      <td>0.321200</td>\n",
       "      <td>0.000000</td>\n",
       "      <td>0.006100</td>\n",
       "      <td>55.000000</td>\n",
       "      <td>0.748000</td>\n",
       "    </tr>\n",
       "    <tr>\n",
       "      <th>25%</th>\n",
       "      <td>1.620000</td>\n",
       "      <td>0.438825</td>\n",
       "      <td>0.347825</td>\n",
       "      <td>0.322100</td>\n",
       "      <td>0.000000</td>\n",
       "      <td>0.006197</td>\n",
       "      <td>56.000000</td>\n",
       "      <td>0.748900</td>\n",
       "    </tr>\n",
       "    <tr>\n",
       "      <th>50%</th>\n",
       "      <td>1.650000</td>\n",
       "      <td>0.454950</td>\n",
       "      <td>0.353900</td>\n",
       "      <td>0.323700</td>\n",
       "      <td>0.500000</td>\n",
       "      <td>0.006205</td>\n",
       "      <td>57.500000</td>\n",
       "      <td>0.749900</td>\n",
       "    </tr>\n",
       "    <tr>\n",
       "      <th>75%</th>\n",
       "      <td>1.662500</td>\n",
       "      <td>0.456600</td>\n",
       "      <td>0.354425</td>\n",
       "      <td>0.324775</td>\n",
       "      <td>1.000000</td>\n",
       "      <td>0.006217</td>\n",
       "      <td>58.250000</td>\n",
       "      <td>0.749900</td>\n",
       "    </tr>\n",
       "    <tr>\n",
       "      <th>max</th>\n",
       "      <td>1.690000</td>\n",
       "      <td>0.456700</td>\n",
       "      <td>0.356800</td>\n",
       "      <td>0.328200</td>\n",
       "      <td>1.000000</td>\n",
       "      <td>0.006300</td>\n",
       "      <td>61.000000</td>\n",
       "      <td>0.750100</td>\n",
       "    </tr>\n",
       "  </tbody>\n",
       "</table>\n",
       "</div>"
      ],
      "text/plain": [
       "       crude oil 60   federal and state taxes 16  refining cost 13  \\\n",
       "count       8.000000                    8.000000          6.000000   \n",
       "mean        1.646250                    0.448825          0.351817   \n",
       "std         0.028253                    0.009993          0.004710   \n",
       "min         1.610000                    0.435300          0.345900   \n",
       "25%         1.620000                    0.438825          0.347825   \n",
       "50%         1.650000                    0.454950          0.353900   \n",
       "75%         1.662500                    0.456600          0.354425   \n",
       "max         1.690000                    0.456700          0.356800   \n",
       "\n",
       "       distribution and marcketing 12  roadfunds  viscosity     igtemp  \\\n",
       "count                        8.000000   8.000000   8.000000   8.000000   \n",
       "mean                         0.323887   0.500000   0.006206  57.500000   \n",
       "std                          0.002265   0.534522   0.000056   1.927248   \n",
       "min                          0.321200   0.000000   0.006100  55.000000   \n",
       "25%                          0.322100   0.000000   0.006197  56.000000   \n",
       "50%                          0.323700   0.500000   0.006205  57.500000   \n",
       "75%                          0.324775   1.000000   0.006217  58.250000   \n",
       "max                          0.328200   1.000000   0.006300  61.000000   \n",
       "\n",
       "        density  \n",
       "count  8.000000  \n",
       "mean   0.749437  \n",
       "std    0.000750  \n",
       "min    0.748000  \n",
       "25%    0.748900  \n",
       "50%    0.749900  \n",
       "75%    0.749900  \n",
       "max    0.750100  "
      ]
     },
     "execution_count": 35,
     "metadata": {},
     "output_type": "execute_result"
    }
   ],
   "source": [
    "gasoline.describe() # before we started filling missing attributes"
   ]
  },
  {
   "cell_type": "code",
   "execution_count": null,
   "metadata": {},
   "outputs": [],
   "source": []
  },
  {
   "cell_type": "code",
   "execution_count": 36,
   "metadata": {},
   "outputs": [
    {
     "data": {
      "text/plain": [
       "Imputer(axis=0, copy=True, missing_values='NaN', strategy='median', verbose=0)"
      ]
     },
     "execution_count": 36,
     "metadata": {},
     "output_type": "execute_result"
    }
   ],
   "source": [
    "#from sklearn.preprocessing.imputation  import SimpleImputer\n",
    "import numpy as np\n",
    "from sklearn.preprocessing import Imputer\n",
    "imputer = Imputer(strategy=\"median\")\n",
    "imputer.fit(gasoline)"
   ]
  },
  {
   "cell_type": "code",
   "execution_count": 37,
   "metadata": {},
   "outputs": [
    {
     "data": {
      "text/plain": [
       "array([1.6500e+00, 4.5495e-01, 3.5390e-01, 3.2370e-01, 5.0000e-01,\n",
       "       6.2050e-03, 5.7500e+01, 7.4990e-01])"
      ]
     },
     "execution_count": 37,
     "metadata": {},
     "output_type": "execute_result"
    }
   ],
   "source": [
    "imputer.statistics_"
   ]
  },
  {
   "cell_type": "code",
   "execution_count": 38,
   "metadata": {},
   "outputs": [],
   "source": [
    "X = imputer.transform(gasoline)"
   ]
  },
  {
   "cell_type": "code",
   "execution_count": 39,
   "metadata": {},
   "outputs": [],
   "source": [
    "gasoline_tr = pd.DataFrame(X, columns=gasoline.columns)"
   ]
  },
  {
   "cell_type": "code",
   "execution_count": 40,
   "metadata": {},
   "outputs": [
    {
     "data": {
      "text/html": [
       "<div>\n",
       "<style scoped>\n",
       "    .dataframe tbody tr th:only-of-type {\n",
       "        vertical-align: middle;\n",
       "    }\n",
       "\n",
       "    .dataframe tbody tr th {\n",
       "        vertical-align: top;\n",
       "    }\n",
       "\n",
       "    .dataframe thead th {\n",
       "        text-align: right;\n",
       "    }\n",
       "</style>\n",
       "<table border=\"1\" class=\"dataframe\">\n",
       "  <thead>\n",
       "    <tr style=\"text-align: right;\">\n",
       "      <th></th>\n",
       "      <th>crude oil 60</th>\n",
       "      <th>federal and state taxes 16</th>\n",
       "      <th>refining cost 13</th>\n",
       "      <th>distribution and marcketing 12</th>\n",
       "      <th>roadfunds</th>\n",
       "      <th>viscosity</th>\n",
       "      <th>igtemp</th>\n",
       "      <th>density</th>\n",
       "    </tr>\n",
       "  </thead>\n",
       "  <tbody>\n",
       "    <tr>\n",
       "      <th>count</th>\n",
       "      <td>8.000000</td>\n",
       "      <td>8.000000</td>\n",
       "      <td>8.000000</td>\n",
       "      <td>8.000000</td>\n",
       "      <td>8.000000</td>\n",
       "      <td>8.000000</td>\n",
       "      <td>8.000000</td>\n",
       "      <td>8.000000</td>\n",
       "    </tr>\n",
       "    <tr>\n",
       "      <th>mean</th>\n",
       "      <td>1.646250</td>\n",
       "      <td>0.448825</td>\n",
       "      <td>0.352337</td>\n",
       "      <td>0.323887</td>\n",
       "      <td>0.500000</td>\n",
       "      <td>0.006206</td>\n",
       "      <td>57.500000</td>\n",
       "      <td>0.749437</td>\n",
       "    </tr>\n",
       "    <tr>\n",
       "      <th>std</th>\n",
       "      <td>0.028253</td>\n",
       "      <td>0.009993</td>\n",
       "      <td>0.004096</td>\n",
       "      <td>0.002265</td>\n",
       "      <td>0.534522</td>\n",
       "      <td>0.000056</td>\n",
       "      <td>1.927248</td>\n",
       "      <td>0.000750</td>\n",
       "    </tr>\n",
       "    <tr>\n",
       "      <th>min</th>\n",
       "      <td>1.610000</td>\n",
       "      <td>0.435300</td>\n",
       "      <td>0.345900</td>\n",
       "      <td>0.321200</td>\n",
       "      <td>0.000000</td>\n",
       "      <td>0.006100</td>\n",
       "      <td>55.000000</td>\n",
       "      <td>0.748000</td>\n",
       "    </tr>\n",
       "    <tr>\n",
       "      <th>25%</th>\n",
       "      <td>1.620000</td>\n",
       "      <td>0.438825</td>\n",
       "      <td>0.351675</td>\n",
       "      <td>0.322100</td>\n",
       "      <td>0.000000</td>\n",
       "      <td>0.006197</td>\n",
       "      <td>56.000000</td>\n",
       "      <td>0.748900</td>\n",
       "    </tr>\n",
       "    <tr>\n",
       "      <th>50%</th>\n",
       "      <td>1.650000</td>\n",
       "      <td>0.454950</td>\n",
       "      <td>0.353900</td>\n",
       "      <td>0.323700</td>\n",
       "      <td>0.500000</td>\n",
       "      <td>0.006205</td>\n",
       "      <td>57.500000</td>\n",
       "      <td>0.749900</td>\n",
       "    </tr>\n",
       "    <tr>\n",
       "      <th>75%</th>\n",
       "      <td>1.662500</td>\n",
       "      <td>0.456600</td>\n",
       "      <td>0.354275</td>\n",
       "      <td>0.324775</td>\n",
       "      <td>1.000000</td>\n",
       "      <td>0.006217</td>\n",
       "      <td>58.250000</td>\n",
       "      <td>0.749900</td>\n",
       "    </tr>\n",
       "    <tr>\n",
       "      <th>max</th>\n",
       "      <td>1.690000</td>\n",
       "      <td>0.456700</td>\n",
       "      <td>0.356800</td>\n",
       "      <td>0.328200</td>\n",
       "      <td>1.000000</td>\n",
       "      <td>0.006300</td>\n",
       "      <td>61.000000</td>\n",
       "      <td>0.750100</td>\n",
       "    </tr>\n",
       "  </tbody>\n",
       "</table>\n",
       "</div>"
      ],
      "text/plain": [
       "       crude oil 60   federal and state taxes 16  refining cost 13  \\\n",
       "count       8.000000                    8.000000          8.000000   \n",
       "mean        1.646250                    0.448825          0.352337   \n",
       "std         0.028253                    0.009993          0.004096   \n",
       "min         1.610000                    0.435300          0.345900   \n",
       "25%         1.620000                    0.438825          0.351675   \n",
       "50%         1.650000                    0.454950          0.353900   \n",
       "75%         1.662500                    0.456600          0.354275   \n",
       "max         1.690000                    0.456700          0.356800   \n",
       "\n",
       "       distribution and marcketing 12  roadfunds  viscosity     igtemp  \\\n",
       "count                        8.000000   8.000000   8.000000   8.000000   \n",
       "mean                         0.323887   0.500000   0.006206  57.500000   \n",
       "std                          0.002265   0.534522   0.000056   1.927248   \n",
       "min                          0.321200   0.000000   0.006100  55.000000   \n",
       "25%                          0.322100   0.000000   0.006197  56.000000   \n",
       "50%                          0.323700   0.500000   0.006205  57.500000   \n",
       "75%                          0.324775   1.000000   0.006217  58.250000   \n",
       "max                          0.328200   1.000000   0.006300  61.000000   \n",
       "\n",
       "        density  \n",
       "count  8.000000  \n",
       "mean   0.749437  \n",
       "std    0.000750  \n",
       "min    0.748000  \n",
       "25%    0.748900  \n",
       "50%    0.749900  \n",
       "75%    0.749900  \n",
       "max    0.750100  "
      ]
     },
     "execution_count": 40,
     "metadata": {},
     "output_type": "execute_result"
    }
   ],
   "source": [
    "gasoline_tr.describe()"
   ]
  },
  {
   "cell_type": "markdown",
   "metadata": {},
   "source": [
    "#Scikit-learn Design\n",
    "Primarily, three types of objects\n",
    "\n",
    "Estimators - It estimates some parameter based on a dataset. Eg. imputer. It has a fit method and transform method. Fit method - Fits the dataset and calculates internal parameters\n",
    "\n",
    "Transformers - transform method takes input and returns output based on the learnings from fit(). It also has a convenience function called fit_transform() which fits and then transforms.\n",
    "\n",
    "Predictors - LinearRegression model is an example of predictor. fit() and predict() are two common functions. It also gives score() function which will evaluate the predictions.\n",
    "\n",
    "Feature Scaling\n",
    "Primarily, two types of feature scaling methods:\n",
    "\n",
    "Min-max scaling (Normalization) (value - min)/(max - min) Sklearn provides a class called MinMaxScaler for this\n",
    "\n",
    "Standardization (value - mean)/std Sklearn provides a class called StandardScaler for this"
   ]
  },
  {
   "cell_type": "markdown",
   "metadata": {},
   "source": [
    "## Creating a Pipeline"
   ]
  },
  {
   "cell_type": "code",
   "execution_count": 41,
   "metadata": {},
   "outputs": [],
   "source": [
    "from sklearn.pipeline import Pipeline\n",
    "from sklearn.preprocessing import StandardScaler\n",
    "my_pipeline = Pipeline([('imputer',Imputer(strategy=\"median\")),\n",
    "    #     ..... add as many as you want in your pipeline\n",
    "    ('std_scaler', StandardScaler()),\n",
    "])"
   ]
  },
  {
   "cell_type": "code",
   "execution_count": 42,
   "metadata": {},
   "outputs": [],
   "source": [
    "gasoline_num_tr = my_pipeline.fit_transform(gasoline)"
   ]
  },
  {
   "cell_type": "code",
   "execution_count": 43,
   "metadata": {},
   "outputs": [
    {
     "data": {
      "text/plain": [
       "(8, 8)"
      ]
     },
     "execution_count": 43,
     "metadata": {},
     "output_type": "execute_result"
    }
   ],
   "source": [
    "gasoline_num_tr.shape"
   ]
  },
  {
   "cell_type": "code",
   "execution_count": null,
   "metadata": {},
   "outputs": [],
   "source": []
  },
  {
   "cell_type": "code",
   "execution_count": 44,
   "metadata": {},
   "outputs": [
    {
     "data": {
      "text/plain": [
       "array([[-0.99326592, -1.41474702,  0.32953963,  0.10030066, -1.        ,\n",
       "         0.07218967, -0.2773501 ,  0.65913978],\n",
       "       [ 0.89866916, -0.95475366,  0.40784608, -0.84370554, -1.        ,\n",
       "         0.64970707,  0.83205029, -2.04867769],\n",
       "       [ 0.52028215,  0.83173218,  0.56445898, -1.26850833,  1.        ,\n",
       "         0.07218967,  0.2773501 ,  0.65913978],\n",
       "       [-0.99326592, -1.44683958, -1.68032585,  0.2891019 , -1.        ,\n",
       "        -0.12031612, -1.38675049, -0.76602731],\n",
       "       [ 0.52028215,  0.8424297 ,  0.48615253, -0.84370554,  1.        ,\n",
       "         1.80474187,  1.94145069,  0.9441732 ],\n",
       "       [-1.37165293,  0.79963962,  1.16480841,  0.80830531,  1.        ,\n",
       "        -2.04537412, -0.83205029,  0.65913978],\n",
       "       [ 1.65544319,  0.51080658, -1.68032585, -0.27730182, -1.        ,\n",
       "        -0.31282192, -0.83205029, -0.76602731],\n",
       "       [-0.23649188,  0.83173218,  0.40784608,  2.03551336,  1.        ,\n",
       "        -0.12031612,  0.2773501 ,  0.65913978]])"
      ]
     },
     "execution_count": 44,
     "metadata": {},
     "output_type": "execute_result"
    }
   ],
   "source": [
    "gasoline_num_tr"
   ]
  },
  {
   "cell_type": "markdown",
   "metadata": {},
   "source": [
    "## Selecting a desired model or algorithm"
   ]
  },
  {
   "cell_type": "code",
   "execution_count": 45,
   "metadata": {},
   "outputs": [
    {
     "name": "stderr",
     "output_type": "stream",
     "text": [
      "C:\\Users\\ABHINAV  KUMAR GAUR\\AppData\\Local\\Continuum\\anaconda3\\lib\\site-packages\\sklearn\\ensemble\\weight_boosting.py:29: DeprecationWarning: numpy.core.umath_tests is an internal NumPy module and should not be imported. It will be removed in a future NumPy release.\n",
      "  from numpy.core.umath_tests import inner1d\n"
     ]
    },
    {
     "data": {
      "text/plain": [
       "RandomForestRegressor(bootstrap=True, criterion='mse', max_depth=None,\n",
       "           max_features='auto', max_leaf_nodes=None,\n",
       "           min_impurity_decrease=0.0, min_impurity_split=None,\n",
       "           min_samples_leaf=1, min_samples_split=2,\n",
       "           min_weight_fraction_leaf=0.0, n_estimators=10, n_jobs=1,\n",
       "           oob_score=False, random_state=None, verbose=0, warm_start=False)"
      ]
     },
     "execution_count": 45,
     "metadata": {},
     "output_type": "execute_result"
    }
   ],
   "source": [
    "from sklearn.linear_model import LinearRegression\n",
    "from sklearn.tree import DecisionTreeRegressor\n",
    "from sklearn.ensemble import RandomForestRegressor\n",
    "# model = LinearRegression()\n",
    "# model = DecisionTreeRegressor()\n",
    "model = RandomForestRegressor()\n",
    "model.fit(gasoline_num_tr, gasoline_labels)"
   ]
  },
  {
   "cell_type": "code",
   "execution_count": 46,
   "metadata": {},
   "outputs": [],
   "source": [
    "some_data = gasoline.iloc[:5]"
   ]
  },
  {
   "cell_type": "code",
   "execution_count": 47,
   "metadata": {},
   "outputs": [],
   "source": [
    "some_labels = gasoline_labels.iloc[:5]"
   ]
  },
  {
   "cell_type": "code",
   "execution_count": 48,
   "metadata": {},
   "outputs": [],
   "source": [
    "prepared_data = my_pipeline.transform(some_data)"
   ]
  },
  {
   "cell_type": "code",
   "execution_count": 49,
   "metadata": {},
   "outputs": [
    {
     "data": {
      "text/plain": [
       "array([2.7294, 2.7517, 2.7423, 2.7251, 2.7728])"
      ]
     },
     "execution_count": 49,
     "metadata": {},
     "output_type": "execute_result"
    }
   ],
   "source": [
    "model.predict(prepared_data)"
   ]
  },
  {
   "cell_type": "code",
   "execution_count": 50,
   "metadata": {},
   "outputs": [
    {
     "data": {
      "text/plain": [
       "[2.7310000000000003, 2.764, 2.734, 2.721, 2.7889999999999997]"
      ]
     },
     "execution_count": 50,
     "metadata": {},
     "output_type": "execute_result"
    }
   ],
   "source": [
    "list(some_labels)"
   ]
  },
  {
   "cell_type": "markdown",
   "metadata": {},
   "source": [
    "## Evaluating the model"
   ]
  },
  {
   "cell_type": "code",
   "execution_count": 51,
   "metadata": {},
   "outputs": [],
   "source": [
    "from sklearn.metrics import mean_squared_error\n",
    "gasoline_predictions = model.predict(gasoline_num_tr)\n",
    "mse = mean_squared_error(gasoline_labels, gasoline_predictions)\n",
    "rmse = np.sqrt(mse)"
   ]
  },
  {
   "cell_type": "code",
   "execution_count": 52,
   "metadata": {},
   "outputs": [
    {
     "data": {
      "text/plain": [
       "0.008162030997245797"
      ]
     },
     "execution_count": 52,
     "metadata": {},
     "output_type": "execute_result"
    }
   ],
   "source": [
    "rmse\n"
   ]
  },
  {
   "cell_type": "markdown",
   "metadata": {},
   "source": [
    "## Saving the model"
   ]
  },
  {
   "cell_type": "code",
   "execution_count": 60,
   "metadata": {},
   "outputs": [
    {
     "data": {
      "text/plain": [
       "['ongc.joblib']"
      ]
     },
     "execution_count": 60,
     "metadata": {},
     "output_type": "execute_result"
    }
   ],
   "source": [
    "from joblib import dump, load\n",
    "dump(model, 'ongc.joblib') "
   ]
  },
  {
   "cell_type": "markdown",
   "metadata": {},
   "source": [
    "## Testing the model on test data"
   ]
  },
  {
   "cell_type": "code",
   "execution_count": 61,
   "metadata": {},
   "outputs": [],
   "source": [
    "X_test = strat_test_set.drop(\"price\", axis=1)\n",
    "Y_test = strat_test_set[\"price\"].copy()\n",
    "X_test_prepared = my_pipeline.transform(X_test)\n",
    "final_predictions = model.predict(X_test_prepared)\n",
    "final_mse = mean_squared_error(Y_test, final_predictions)\n",
    "final_rmse = np.sqrt(final_mse)\n",
    "# print(final_predictions, list(Y_test))"
   ]
  },
  {
   "cell_type": "code",
   "execution_count": 62,
   "metadata": {},
   "outputs": [
    {
     "data": {
      "text/plain": [
       "0.031225310246657572"
      ]
     },
     "execution_count": 62,
     "metadata": {},
     "output_type": "execute_result"
    }
   ],
   "source": [
    "final_rmse"
   ]
  },
  {
   "cell_type": "code",
   "execution_count": 63,
   "metadata": {},
   "outputs": [
    {
     "data": {
      "text/plain": [
       "array([-0.99326592, -1.41474702,  0.32953963,  0.10030066, -1.        ,\n",
       "        0.07218967, -0.2773501 ,  0.65913978])"
      ]
     },
     "execution_count": 63,
     "metadata": {},
     "output_type": "execute_result"
    }
   ],
   "source": [
    "prepared_data[0]"
   ]
  },
  {
   "cell_type": "markdown",
   "metadata": {},
   "source": [
    "## Using the model"
   ]
  },
  {
   "cell_type": "code",
   "execution_count": 65,
   "metadata": {},
   "outputs": [
    {
     "data": {
      "text/plain": [
       "array([-0.99326592, -1.41474702,  0.32953963,  0.10030066, -1.        ,\n",
       "        0.07218967, -0.2773501 ,  0.65913978])"
      ]
     },
     "execution_count": 65,
     "metadata": {},
     "output_type": "execute_result"
    }
   ],
   "source": [
    "prepared_data[0]"
   ]
  },
  {
   "cell_type": "code",
   "execution_count": 66,
   "metadata": {},
   "outputs": [
    {
     "data": {
      "text/plain": [
       "array([2.7294])"
      ]
     },
     "execution_count": 66,
     "metadata": {},
     "output_type": "execute_result"
    }
   ],
   "source": [
    "from joblib import dump, load\n",
    "import numpy as np\n",
    "model = load('ongc.joblib') \n",
    "features = np.array([[-0.99326592, -1.41474702,  0.32953963,  0.10030066, -1.        ,\n",
    "        0.07218967, -0.2773501 ,  0.65913978]])\n",
    "model.predict(features)"
   ]
  },
  {
   "cell_type": "code",
   "execution_count": null,
   "metadata": {},
   "outputs": [],
   "source": []
  }
 ],
 "metadata": {
  "kernelspec": {
   "display_name": "Python 3",
   "language": "python",
   "name": "python3"
  },
  "language_info": {
   "codemirror_mode": {
    "name": "ipython",
    "version": 3
   },
   "file_extension": ".py",
   "mimetype": "text/x-python",
   "name": "python",
   "nbconvert_exporter": "python",
   "pygments_lexer": "ipython3",
   "version": "3.7.0"
  }
 },
 "nbformat": 4,
 "nbformat_minor": 2
}
